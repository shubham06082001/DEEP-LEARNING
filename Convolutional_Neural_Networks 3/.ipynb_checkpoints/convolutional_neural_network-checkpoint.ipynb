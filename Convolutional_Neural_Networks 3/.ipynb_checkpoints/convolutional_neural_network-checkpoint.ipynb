{
 "cells": [
  {
   "cell_type": "markdown",
   "metadata": {
    "colab_type": "text",
    "id": "3DR-eO17geWu"
   },
   "source": [
    "# Convolutional Neural Network"
   ]
  },
  {
   "cell_type": "markdown",
   "metadata": {
    "colab_type": "text",
    "id": "EMefrVPCg-60"
   },
   "source": [
    "### Importing the libraries"
   ]
  },
  {
   "cell_type": "code",
   "execution_count": 1,
   "metadata": {
    "colab": {},
    "colab_type": "code",
    "id": "sCV30xyVhFbE"
   },
   "outputs": [],
   "source": [
    "import tensorflow as tf\n",
    "from keras.preprocessing.image import ImageDataGenerator"
   ]
  },
  {
   "cell_type": "code",
   "execution_count": 2,
   "metadata": {
    "colab": {},
    "colab_type": "code",
    "id": "FIleuCAjoFD8"
   },
   "outputs": [
    {
     "data": {
      "text/plain": [
       "'2.3.1'"
      ]
     },
     "execution_count": 2,
     "metadata": {},
     "output_type": "execute_result"
    }
   ],
   "source": [
    "tf.__version__"
   ]
  },
  {
   "cell_type": "markdown",
   "metadata": {
    "colab_type": "text",
    "id": "oxQxCBWyoGPE"
   },
   "source": [
    "## Part 1 - Data Preprocessing"
   ]
  },
  {
   "cell_type": "markdown",
   "metadata": {
    "colab_type": "text",
    "id": "MvE-heJNo3GG"
   },
   "source": [
    "### Preprocessing the Training set"
   ]
  },
  {
   "cell_type": "code",
   "execution_count": 3,
   "metadata": {
    "colab": {},
    "colab_type": "code",
    "id": "0koUcJMJpEBD"
   },
   "outputs": [
    {
     "name": "stdout",
     "output_type": "stream",
     "text": [
      "Found 8048 images belonging to 2 classes.\n"
     ]
    }
   ],
   "source": [
    "train_datagen = ImageDataGenerator(rescale = 1./255,\n",
    "                                   shear_range = 0.2,\n",
    "                                   zoom_range = 0.2,\n",
    "                                   horizontal_flip = True)\n",
    "training_set = train_datagen.flow_from_directory('dataset/training_set',\n",
    "                                                 target_size = (64, 64),\n",
    "                                                 batch_size = 32,\n",
    "                                                 class_mode = 'binary')"
   ]
  },
  {
   "cell_type": "markdown",
   "metadata": {
    "colab_type": "text",
    "id": "mrCMmGw9pHys"
   },
   "source": [
    "### Preprocessing the Test set"
   ]
  },
  {
   "cell_type": "code",
   "execution_count": 4,
   "metadata": {
    "colab": {},
    "colab_type": "code",
    "id": "SH4WzfOhpKc3"
   },
   "outputs": [
    {
     "name": "stdout",
     "output_type": "stream",
     "text": [
      "Found 2000 images belonging to 2 classes.\n"
     ]
    }
   ],
   "source": [
    "test_datagen = ImageDataGenerator(rescale = 1./255)\n",
    "test_set = test_datagen.flow_from_directory('dataset/test_set',\n",
    "                                            target_size = (64, 64),\n",
    "                                            batch_size = 32,\n",
    "                                            class_mode = 'binary')"
   ]
  },
  {
   "cell_type": "markdown",
   "metadata": {
    "colab_type": "text",
    "id": "af8O4l90gk7B"
   },
   "source": [
    "## Part 2 - Building the CNN"
   ]
  },
  {
   "cell_type": "markdown",
   "metadata": {
    "colab_type": "text",
    "id": "ces1gXY2lmoX"
   },
   "source": [
    "### Initialising the CNN"
   ]
  },
  {
   "cell_type": "code",
   "execution_count": 5,
   "metadata": {
    "colab": {},
    "colab_type": "code",
    "id": "SAUt4UMPlhLS"
   },
   "outputs": [],
   "source": [
    "cnn = tf.keras.models.Sequential()"
   ]
  },
  {
   "cell_type": "markdown",
   "metadata": {
    "colab_type": "text",
    "id": "u5YJj_XMl5LF"
   },
   "source": [
    "### Step 1 - Convolution"
   ]
  },
  {
   "cell_type": "code",
   "execution_count": 6,
   "metadata": {
    "colab": {},
    "colab_type": "code",
    "id": "XPzPrMckl-hV"
   },
   "outputs": [],
   "source": [
    "cnn.add(tf.keras.layers.Conv2D(filters=32, kernel_size=3, activation='relu', input_shape=[64, 64, 3]))"
   ]
  },
  {
   "cell_type": "markdown",
   "metadata": {
    "colab_type": "text",
    "id": "tf87FpvxmNOJ"
   },
   "source": [
    "### Step 2 - Pooling"
   ]
  },
  {
   "cell_type": "code",
   "execution_count": 7,
   "metadata": {
    "colab": {},
    "colab_type": "code",
    "id": "ncpqPl69mOac"
   },
   "outputs": [],
   "source": [
    "cnn.add(tf.keras.layers.MaxPool2D(pool_size=2, strides=2))"
   ]
  },
  {
   "cell_type": "markdown",
   "metadata": {
    "colab_type": "text",
    "id": "xaTOgD8rm4mU"
   },
   "source": [
    "### Adding a second convolutional layer"
   ]
  },
  {
   "cell_type": "code",
   "execution_count": 8,
   "metadata": {
    "colab": {},
    "colab_type": "code",
    "id": "i_-FZjn_m8gk"
   },
   "outputs": [],
   "source": [
    "cnn.add(tf.keras.layers.Conv2D(filters=32, kernel_size=3, activation='relu'))\n",
    "cnn.add(tf.keras.layers.MaxPool2D(pool_size=2, strides=2))"
   ]
  },
  {
   "cell_type": "markdown",
   "metadata": {
    "colab_type": "text",
    "id": "tmiEuvTunKfk"
   },
   "source": [
    "### Step 3 - Flattening"
   ]
  },
  {
   "cell_type": "code",
   "execution_count": 9,
   "metadata": {
    "colab": {},
    "colab_type": "code",
    "id": "6AZeOGCvnNZn"
   },
   "outputs": [],
   "source": [
    "cnn.add(tf.keras.layers.Flatten())"
   ]
  },
  {
   "cell_type": "markdown",
   "metadata": {
    "colab_type": "text",
    "id": "dAoSECOm203v"
   },
   "source": [
    "### Step 4 - Full Connection"
   ]
  },
  {
   "cell_type": "code",
   "execution_count": 10,
   "metadata": {
    "colab": {},
    "colab_type": "code",
    "id": "8GtmUlLd26Nq"
   },
   "outputs": [],
   "source": [
    "cnn.add(tf.keras.layers.Dense(units=128, activation='relu'))"
   ]
  },
  {
   "cell_type": "markdown",
   "metadata": {
    "colab_type": "text",
    "id": "yTldFvbX28Na"
   },
   "source": [
    "### Step 5 - Output Layer"
   ]
  },
  {
   "cell_type": "code",
   "execution_count": 11,
   "metadata": {
    "colab": {},
    "colab_type": "code",
    "id": "1p_Zj1Mc3Ko_"
   },
   "outputs": [],
   "source": [
    "cnn.add(tf.keras.layers.Dense(units=1, activation='sigmoid'))"
   ]
  },
  {
   "cell_type": "markdown",
   "metadata": {
    "colab_type": "text",
    "id": "D6XkI90snSDl"
   },
   "source": [
    "## Part 3 - Training the CNN"
   ]
  },
  {
   "cell_type": "markdown",
   "metadata": {
    "colab_type": "text",
    "id": "vfrFQACEnc6i"
   },
   "source": [
    "### Compiling the CNN"
   ]
  },
  {
   "cell_type": "code",
   "execution_count": 12,
   "metadata": {
    "colab": {},
    "colab_type": "code",
    "id": "NALksrNQpUlJ"
   },
   "outputs": [],
   "source": [
    "cnn.compile(optimizer = 'adam', loss = 'binary_crossentropy', metrics = ['accuracy'])"
   ]
  },
  {
   "cell_type": "markdown",
   "metadata": {
    "colab_type": "text",
    "id": "ehS-v3MIpX2h"
   },
   "source": [
    "### Training the CNN on the Training set and evaluating it on the Test set"
   ]
  },
  {
   "cell_type": "code",
   "execution_count": 13,
   "metadata": {
    "colab": {},
    "colab_type": "code",
    "id": "XUj1W4PJptta"
   },
   "outputs": [
    {
     "name": "stdout",
     "output_type": "stream",
     "text": [
      "Epoch 1/25\n",
      "252/252 [==============================] - 46s 183ms/step - loss: 0.6584 - accuracy: 0.5978 - val_loss: 0.5996 - val_accuracy: 0.6970\n",
      "Epoch 2/25\n",
      "252/252 [==============================] - 38s 150ms/step - loss: 0.5994 - accuracy: 0.6752 - val_loss: 0.5478 - val_accuracy: 0.7260\n",
      "Epoch 3/25\n",
      "252/252 [==============================] - 34s 134ms/step - loss: 0.5510 - accuracy: 0.7167 - val_loss: 0.5205 - val_accuracy: 0.7360\n",
      "Epoch 4/25\n",
      "252/252 [==============================] - 35s 137ms/step - loss: 0.5179 - accuracy: 0.7372 - val_loss: 0.5041 - val_accuracy: 0.7615\n",
      "Epoch 5/25\n",
      "252/252 [==============================] - 32s 126ms/step - loss: 0.5054 - accuracy: 0.7504 - val_loss: 0.5122 - val_accuracy: 0.7545\n",
      "Epoch 6/25\n",
      "252/252 [==============================] - 32s 127ms/step - loss: 0.4804 - accuracy: 0.7648 - val_loss: 0.4765 - val_accuracy: 0.7715\n",
      "Epoch 7/25\n",
      "252/252 [==============================] - 41s 161ms/step - loss: 0.4722 - accuracy: 0.7700 - val_loss: 0.5193 - val_accuracy: 0.7605\n",
      "Epoch 8/25\n",
      "252/252 [==============================] - 46s 183ms/step - loss: 0.4550 - accuracy: 0.7803 - val_loss: 0.4672 - val_accuracy: 0.7860\n",
      "Epoch 9/25\n",
      "252/252 [==============================] - 32s 127ms/step - loss: 0.4414 - accuracy: 0.7904 - val_loss: 0.4673 - val_accuracy: 0.7860\n",
      "Epoch 10/25\n",
      "252/252 [==============================] - 31s 123ms/step - loss: 0.4291 - accuracy: 0.7960 - val_loss: 0.4606 - val_accuracy: 0.7965\n",
      "Epoch 11/25\n",
      "252/252 [==============================] - 31s 124ms/step - loss: 0.4117 - accuracy: 0.8091 - val_loss: 0.4442 - val_accuracy: 0.7980\n",
      "Epoch 12/25\n",
      "252/252 [==============================] - 32s 127ms/step - loss: 0.4081 - accuracy: 0.8063 - val_loss: 0.4592 - val_accuracy: 0.7950\n",
      "Epoch 13/25\n",
      "252/252 [==============================] - 32s 126ms/step - loss: 0.3932 - accuracy: 0.8208 - val_loss: 0.4639 - val_accuracy: 0.8015\n",
      "Epoch 14/25\n",
      "252/252 [==============================] - 32s 126ms/step - loss: 0.3795 - accuracy: 0.8265 - val_loss: 0.4527 - val_accuracy: 0.8030\n",
      "Epoch 15/25\n",
      "252/252 [==============================] - 32s 126ms/step - loss: 0.3738 - accuracy: 0.8300 - val_loss: 0.4482 - val_accuracy: 0.8005\n",
      "Epoch 16/25\n",
      "252/252 [==============================] - 32s 127ms/step - loss: 0.3574 - accuracy: 0.8432 - val_loss: 0.4862 - val_accuracy: 0.7955\n",
      "Epoch 17/25\n",
      "252/252 [==============================] - 32s 128ms/step - loss: 0.3482 - accuracy: 0.8446 - val_loss: 0.4847 - val_accuracy: 0.7990\n",
      "Epoch 18/25\n",
      "252/252 [==============================] - 32s 128ms/step - loss: 0.3358 - accuracy: 0.8556 - val_loss: 0.4471 - val_accuracy: 0.8185\n",
      "Epoch 19/25\n",
      "252/252 [==============================] - 33s 130ms/step - loss: 0.3261 - accuracy: 0.8601 - val_loss: 0.4474 - val_accuracy: 0.8160\n",
      "Epoch 20/25\n",
      "252/252 [==============================] - 32s 128ms/step - loss: 0.3239 - accuracy: 0.8625 - val_loss: 0.4960 - val_accuracy: 0.7900\n",
      "Epoch 21/25\n",
      "252/252 [==============================] - 33s 129ms/step - loss: 0.2997 - accuracy: 0.8713 - val_loss: 0.4879 - val_accuracy: 0.8060\n",
      "Epoch 22/25\n",
      "252/252 [==============================] - 32s 128ms/step - loss: 0.2943 - accuracy: 0.8707 - val_loss: 0.6047 - val_accuracy: 0.7525\n",
      "Epoch 23/25\n",
      "252/252 [==============================] - 32s 129ms/step - loss: 0.2891 - accuracy: 0.8762 - val_loss: 0.4747 - val_accuracy: 0.8155\n",
      "Epoch 24/25\n",
      "252/252 [==============================] - 33s 129ms/step - loss: 0.2733 - accuracy: 0.8839 - val_loss: 0.5383 - val_accuracy: 0.8020\n",
      "Epoch 25/25\n",
      "252/252 [==============================] - 32s 129ms/step - loss: 0.2661 - accuracy: 0.8885 - val_loss: 0.4600 - val_accuracy: 0.8190\n"
     ]
    },
    {
     "data": {
      "text/plain": [
       "<tensorflow.python.keras.callbacks.History at 0x7fc8ecfb9d00>"
      ]
     },
     "execution_count": 13,
     "metadata": {},
     "output_type": "execute_result"
    }
   ],
   "source": [
    "cnn.fit(x = training_set, validation_data = test_set, epochs = 25)"
   ]
  },
  {
   "cell_type": "markdown",
   "metadata": {
    "colab_type": "text",
    "id": "U3PZasO0006Z"
   },
   "source": [
    "## Part 4 - Making a single prediction"
   ]
  },
  {
   "cell_type": "code",
   "execution_count": 14,
   "metadata": {
    "colab": {},
    "colab_type": "code",
    "id": "gsSiWEJY1BPB"
   },
   "outputs": [],
   "source": [
    "import numpy as np\n",
    "from keras.preprocessing import image\n",
    "test_image = image.load_img('dataset/single_prediction/cat_or_dog_1.jpg', target_size = (64, 64))\n",
    "test_image = image.img_to_array(test_image)\n",
    "test_image = np.expand_dims(test_image, axis = 0)\n",
    "result = cnn.predict(test_image)\n",
    "training_set.class_indices\n",
    "if result[0][0] == 1:\n",
    "  prediction = 'dog'\n",
    "else:\n",
    "  prediction = 'cat'"
   ]
  },
  {
   "cell_type": "code",
   "execution_count": 15,
   "metadata": {
    "colab": {},
    "colab_type": "code",
    "id": "ED9KB3I54c1i"
   },
   "outputs": [
    {
     "name": "stdout",
     "output_type": "stream",
     "text": [
      "dog\n"
     ]
    }
   ],
   "source": [
    "print(prediction)"
   ]
  }
 ],
 "metadata": {
  "colab": {
   "collapsed_sections": [],
   "name": "convolutional_neural_network.ipynb",
   "provenance": [],
   "toc_visible": true
  },
  "kernelspec": {
   "display_name": "Python 3",
   "language": "python",
   "name": "python3"
  },
  "language_info": {
   "codemirror_mode": {
    "name": "ipython",
    "version": 3
   },
   "file_extension": ".py",
   "mimetype": "text/x-python",
   "name": "python",
   "nbconvert_exporter": "python",
   "pygments_lexer": "ipython3",
   "version": "3.8.5"
  }
 },
 "nbformat": 4,
 "nbformat_minor": 1
}
